{
 "cells": [
  {
   "cell_type": "markdown",
   "metadata": {},
   "source": [
    "# Merging Data"
   ]
  },
  {
   "cell_type": "markdown",
   "metadata": {},
   "source": [
    "We will use this dataset from the EU member states trades for this notebook:\n",
    "\n",
    "http://appsso.eurostat.ec.europa.eu/nui/show.do?dataset=ext_lt_invcur&lang=en\n"
   ]
  },
  {
   "cell_type": "code",
   "execution_count": 1,
   "metadata": {
    "collapsed": true
   },
   "outputs": [],
   "source": [
    "import pandas as pd"
   ]
  },
  {
   "cell_type": "code",
   "execution_count": 2,
   "metadata": {
    "collapsed": true
   },
   "outputs": [],
   "source": [
    "df = pd.DataFrame()"
   ]
  },
  {
   "cell_type": "markdown",
   "metadata": {},
   "source": [
    "The data set is too large to be read in 1 go without risking network interruption etc.  Let's read it in chunk."
   ]
  },
  {
   "cell_type": "markdown",
   "metadata": {},
   "source": [
    "Data contained in pandas objects can be combined together in a number of built-in ways:\n",
    "\n",
    "* pandas.concat glues or stacks together objects along an axis.\n",
    "* pandas.merge connects rows in DataFrames based on one or more keys. This will be familiar to users of SQL or other relational databases, as it implements database join operations.\n",
    "* combine_first instance method enables splicing together overlapping data to fill\n",
    "in missing values in one object with values from another.\n"
   ]
  },
  {
   "cell_type": "code",
   "execution_count": 3,
   "metadata": {
    "collapsed": true
   },
   "outputs": [],
   "source": [
    "for chunk in pd.read_csv('data/ext_lt_invcur.tsv', sep='\\t', chunksize=100):\n",
    "    df = pd.concat([df, chunk])"
   ]
  },
  {
   "cell_type": "code",
   "execution_count": 4,
   "metadata": {
    "collapsed": false
   },
   "outputs": [
    {
     "data": {
      "text/html": [
       "<div>\n",
       "<table border=\"1\" class=\"dataframe\">\n",
       "  <thead>\n",
       "    <tr style=\"text-align: right;\">\n",
       "      <th></th>\n",
       "      <th>partner,currency,stk_flow,sitc06,geo\\time</th>\n",
       "      <th>2014</th>\n",
       "      <th>2012</th>\n",
       "      <th>2010</th>\n",
       "    </tr>\n",
       "  </thead>\n",
       "  <tbody>\n",
       "    <tr>\n",
       "      <th>0</th>\n",
       "      <td>EXT_EU,EUR,EXP,SITC0-4A,AT</td>\n",
       "      <td>61.9</td>\n",
       "      <td>65.6</td>\n",
       "      <td>67</td>\n",
       "    </tr>\n",
       "    <tr>\n",
       "      <th>1</th>\n",
       "      <td>EXT_EU,EUR,EXP,SITC0-4A,BE</td>\n",
       "      <td>53.8</td>\n",
       "      <td>85.8</td>\n",
       "      <td>92.4</td>\n",
       "    </tr>\n",
       "    <tr>\n",
       "      <th>2</th>\n",
       "      <td>EXT_EU,EUR,EXP,SITC0-4A,BG</td>\n",
       "      <td>57.0</td>\n",
       "      <td>46.2</td>\n",
       "      <td>54.1</td>\n",
       "    </tr>\n",
       "    <tr>\n",
       "      <th>3</th>\n",
       "      <td>EXT_EU,EUR,EXP,SITC0-4A,CY</td>\n",
       "      <td>79.1</td>\n",
       "      <td>60.7</td>\n",
       "      <td>61.4</td>\n",
       "    </tr>\n",
       "    <tr>\n",
       "      <th>4</th>\n",
       "      <td>EXT_EU,EUR,EXP,SITC0-4A,CZ</td>\n",
       "      <td>58.3</td>\n",
       "      <td>66.7</td>\n",
       "      <td>59.1</td>\n",
       "    </tr>\n",
       "  </tbody>\n",
       "</table>\n",
       "</div>"
      ],
      "text/plain": [
       "  partner,currency,stk_flow,sitc06,geo\\time  2014   2012   2010 \n",
       "0                EXT_EU,EUR,EXP,SITC0-4A,AT   61.9  65.6     67 \n",
       "1                EXT_EU,EUR,EXP,SITC0-4A,BE   53.8  85.8   92.4 \n",
       "2                EXT_EU,EUR,EXP,SITC0-4A,BG   57.0  46.2   54.1 \n",
       "3                EXT_EU,EUR,EXP,SITC0-4A,CY   79.1  60.7   61.4 \n",
       "4                EXT_EU,EUR,EXP,SITC0-4A,CZ   58.3  66.7   59.1 "
      ]
     },
     "execution_count": 4,
     "metadata": {},
     "output_type": "execute_result"
    }
   ],
   "source": [
    "df.head()"
   ]
  },
  {
   "cell_type": "markdown",
   "metadata": {},
   "source": [
    "The data set read in is messy.  Notice that column 2 looks like can be further transformed during the loading phase.\n",
    "\n",
    "Let's be thoughtful in how we \"parse\" the dataset."
   ]
  },
  {
   "cell_type": "code",
   "execution_count": 8,
   "metadata": {
    "collapsed": true
   },
   "outputs": [],
   "source": [
    "df = pd.DataFrame()"
   ]
  },
  {
   "cell_type": "markdown",
   "metadata": {},
   "source": [
    "Let's split out columns with \",\" to separate various sub-columns"
   ]
  },
  {
   "cell_type": "code",
   "execution_count": 9,
   "metadata": {
    "collapsed": false
   },
   "outputs": [
    {
     "name": "stdout",
     "output_type": "stream",
     "text": [
      "([['EXT_EU', 'EUR', 'EXP', 'SITC0-4A', 'AT'], ['EXT_EU', 'EUR', 'EXP', 'SITC0-4A', 'BE'], ['EXT_EU', 'EUR', 'EXP', 'SITC0-4A', 'BG'], ['EXT_EU', 'EUR', 'EXP', 'SITC0-4A', 'CY'], ['EXT_EU', 'EUR', 'EXP', 'SITC0-4A', 'CZ']], ['partner', 'currency', 'stk_flow', 'sitc06', 'geo\\\\time'])\n"
     ]
    }
   ],
   "source": [
    "for chunk in pd.read_csv('data/ext_lt_invcur.tsv', sep='\\t', chunksize=100):\n",
    "    data_rows = [row for row in chunk.ix[:,0].str.split(',')]\n",
    "    data_cols = chunk.columns[0].split(',')\n",
    "    print(data_rows[:5], data_cols)\n",
    "    break\n",
    "    df = pd.concat([df, chunk])"
   ]
  },
  {
   "cell_type": "markdown",
   "metadata": {},
   "source": [
    "There is still issue with the \"geo\\\\time\""
   ]
  },
  {
   "cell_type": "code",
   "execution_count": 10,
   "metadata": {
    "collapsed": false
   },
   "outputs": [
    {
     "name": "stdout",
     "output_type": "stream",
     "text": [
      "  partner currency stk_flow    sitc06 geo  2014   2012   2010 \n",
      "0  EXT_EU      EUR      EXP  SITC0-4A  AT   61.9  65.6     67 \n",
      "1  EXT_EU      EUR      EXP  SITC0-4A  BE   53.8  85.8   92.4 \n",
      "2  EXT_EU      EUR      EXP  SITC0-4A  BG   57.0  46.2   54.1 \n",
      "3  EXT_EU      EUR      EXP  SITC0-4A  CY   79.1  60.7   61.4 \n",
      "4  EXT_EU      EUR      EXP  SITC0-4A  CZ   58.3  66.7   59.1 \n"
     ]
    }
   ],
   "source": [
    "for chunk in pd.read_csv('data/ext_lt_invcur.tsv', sep='\\t', chunksize=100):\n",
    "    # separate out all the data rows for column index 0\n",
    "    data_rows = [row for row in chunk.ix[:,0].str.split(',')]\n",
    "    \n",
    "    # show me column indexed 0 and split on \",\"\n",
    "    data_cols = [col.split('\\\\')[0] for col in chunk.columns[0].split(',')]\n",
    "    \n",
    "    # create new data frame with these new rows and columns\n",
    "    clean_df = pd.DataFrame(data_rows, columns=data_cols)\n",
    "    new_df = pd.concat([clean_df, chunk.drop(chunk.columns[0], axis=1)], \n",
    "                       axis=1)\n",
    "    \n",
    "    # sanity check for top 5 rows\n",
    "    print new_df.head()\n",
    "    break\n",
    "    df = pd.concat([df, chunk])"
   ]
  },
  {
   "cell_type": "code",
   "execution_count": null,
   "metadata": {
    "collapsed": true
   },
   "outputs": [],
   "source": []
  }
 ],
 "metadata": {
  "kernelspec": {
   "display_name": "Python 2",
   "language": "python",
   "name": "python2"
  },
  "language_info": {
   "codemirror_mode": {
    "name": "ipython",
    "version": 2
   },
   "file_extension": ".py",
   "mimetype": "text/x-python",
   "name": "python",
   "nbconvert_exporter": "python",
   "pygments_lexer": "ipython2",
   "version": "2.7.11"
  }
 },
 "nbformat": 4,
 "nbformat_minor": 0
}
