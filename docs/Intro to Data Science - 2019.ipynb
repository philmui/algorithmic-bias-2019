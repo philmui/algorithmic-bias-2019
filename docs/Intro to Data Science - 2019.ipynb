{
 "cells": [
  {
   "cell_type": "markdown",
   "metadata": {},
   "source": [
    "# Intro to Data Science"
   ]
  },
  {
   "cell_type": "markdown",
   "metadata": {},
   "source": [
    "## Phil Mui, 2019\n",
    "\n",
    "phil.mui@fremontstem.com (@philmui)"
   ]
  },
  {
   "cell_type": "markdown",
   "metadata": {},
   "source": [
    "### 1.  Description\n",
    "\n",
    "Data science is one of the most in-demand skills in the world today.  Harvard Business Review recently published an article with the title: [\"Data Scientist: The Sexiest Job of the 21st Century\"](https://hbr.org/2012/10/data-scientist-the-sexiest-job-of-the-21st-century/).  This class will prepare you well to become a data scientist.\n",
    "\n",
    "Data science involves the application of scientic methodologies to extract understanding from and make predictions based on data sets from a broad range of sources. Data science involves knowledge and skills from three areas: 1) computer science, 2) math/statistics and 3) domain specific expertise.\n",
    "    \n",
    "The objective of this summer is to teach the analytical mindset & programming skills relevant to data science. Students will learn the Python programming language, along with a set tools for data science in Python, including the Jupyter (IPython) Notebook, NumPy, Pandas, matplotlib, PySpark, and Tableau data visualization. Students will learn skills that cover the various phases of exploratory data analysis: importing data (web, JSON, CSV, relational data), cleaning and transforming data, algorithmic thinking, grouping and aggregation, visualization, time series, statistical modeling/prediction and communication of results. The course will utilize data from a wide range of sources and will culminate with a final project and presentation.\n",
    "\n",
    "As one of the faster growing fields today, data science has new tools coming faster than publishers can create books.  To supplement the traditional readings on data science, we will be sharing state of the art tools and environments that are used by the best practitioners today: including matplotlib and Tableau for data visualization, Spark and PySpark for big data analytics.  We aim to equip you with the latest industry thinking & toolsets to become a productive data scientist."
   ]
  },
  {
   "cell_type": "markdown",
   "metadata": {
    "collapsed": true
   },
   "source": [
    "### 2.  Learning Objectives\n",
    "\n",
    "In this summer you will learn:\n",
    "* To read, write, run and debug programs in the Python programming language.\n",
    "* To use the core software packages for data science in Python.\n",
    "* To import data sets into Python using text files, HTTP, CSV, JSON files\n",
    "* To wrangle data sets by cleaning and transforming them.\n",
    "* To perform exploratory data analysis to extract insight out of data.\n",
    "* To visualize data sets for exploration and presentation purposes.\n",
    "* To build statistical models to understand and make predictions based on data.\n",
    "* To use the IPython Notebook to create and present reproducible stories involving code and data."
   ]
  },
  {
   "cell_type": "markdown",
   "metadata": {},
   "source": [
    "###  3.  Course Materials\n",
    "\n",
    "We will be using a number of resources throughout the class. \n",
    "\n",
    "* [Online Python Tutorial](https://www.codecademy.com/learn/python) on codecademy.com. This is an excellent, self-guided tutorial on the Python programming language. We will not be spending any time in class covering the basics of Python; instead you will learn it by completing this online tutorial. You will be required to complete\n",
    "this course by the beginning of the 3rd class meeting.\n",
    "* [Python for Data Analysis (P4DS)](https://www.amazon.com/Python-Data-Analysis-Wrangling-IPython/dp/1449319793), Wes McKinney, O’Reilly (2012). We will be doing weekly readings out of\n",
    "this book.\n",
    "\n",
    "The following resource are optional, but highly recommended:\n",
    "* [Tableau Training Videos](http://www.tableau.com/learn/training)\n",
    "* [Learning the Pandas Library](https://www.amazon.com/Learning-Pandas-Library-Munging-Analysis/dp/153359824X), Matt Harrison, Hairysun (2016)"
   ]
  },
  {
   "cell_type": "markdown",
   "metadata": {},
   "source": [
    "### 4.  Software and computers\n",
    "This course will involve extensive programming and computer work, both in and out of class. You are required to bring a laptop to class each time and and have the following software installed by the first class meeting:\n",
    "\n",
    "* [Enthought Canopy Python Distribution -- python version 2.7 ONLY](https://store.enthought.com/downloads/): a scientific-oriented Python distribution from Enthought. This includes EPDFree, a free base scientific distribution (with NumPy, SciPy, matplotlib, Chaco, and Jupyter) and EPD Full, a comprehensive suite of more than 100 scientific packages across many domains. EPD Full is free for academic use but has an annual subscription for non-academic users.\n",
    "\n",
    "   ** NOTE: please DO NOT install python v3 **\n",
    "\n",
    "\n",
    "* A text editor for your platform:\n",
    "    - For Windows, I recommend Atom.io or Sublime Text\n",
    "    - For Mac, I recommend Atom.io, nano, Text Wrangler, TextMate or Sublime Text\n",
    "    - For Linux, I recommend nano, emacs or Sublime Text\n",
    "* Chrome or Firefox browser\n"
   ]
  },
  {
   "cell_type": "markdown",
   "metadata": {},
   "source": [
    "### 5.  Tools\n",
    "In addition to the core Python language, we will cover some or all of the following open source packages for data science in Python.\n",
    "\n",
    "Core:\n",
    "* python 2.7\n",
    "* canopy python distribution\n",
    "* juypter / ipython\n",
    "* numpy\n",
    "* pandas\n",
    "\n",
    "Visualization: \n",
    "* matplotlib\n",
    "* tableau\n",
    "* bokeh\n",
    "\n",
    "Modeling and prediction:\n",
    "* pyspark\n",
    "* spark 1.6.2\n",
    "\n",
    "Development:\n",
    "* git\n",
    "* virtualenv (venv)\n",
    "\n",
    "Web related technologies:\n",
    "* HTTP Requests\n",
    "* XPath\n",
    "* CSS Selector"
   ]
  },
  {
   "cell_type": "markdown",
   "metadata": {},
   "source": [
    "### 6.  Schedule\n",
    "\n",
    "We will be meeting every Saturday starting June 22nd to August 17th, 2019.  Please note that we are NOT meeting in-person on July 06.  We will talk about whether we will meet in person or via Google Meet in our first session.\n",
    "\n",
    "Here is our latest guide to the topics in the class -- subject to changes based on feedback throughout the class:\n",
    "\n",
    "- Introduction to Data Science\n",
    "    - Download & install [Enthought Canopy Python Distribution](https://store.enthought.com/downloads/).\n",
    "    - Register & start [Online Python Tutorial](https://www.codecademy.com/learn/python) on codecademy.com\n",
    "    - git, virtual environments\n",
    "    - Introducing Data Science (P4DS Chapter 1)\n",
    "- Data ingestion\n",
    "    - (Bring your laptop with Enthought Python 2.7 environment installed)\n",
    "    - Introducing Data Science (P4DS Chapter 2)\n",
    "    - Data Ingestions (CSV / text, Excel, PDF, API)\n",
    "    - Interactive Data Science: Jupyter / IPython (P4DS Chapter 3)\n",
    "- Web, Numpy, Pandas\n",
    "    - web scraping\n",
    "    - numpy, pandas (P4DS Chapter 4-5)\n",
    "    - Data Loading, Storage, File Formats (P4DS Chapter 6)\n",
    "- CodeAcademy\n",
    "    - Complete [Online Python Tutorial](https://www.codecademy.com/learn/python) on codecademy.com\n",
    "- Data Wrangling\n",
    "    - Data Loading, Storage, File Formats (P4DS Chapter 6)\n",
    "    - Data Clean, Transform, Merge, Reshape (P4DS Chapter 7)\n",
    "- Data Visualization\n",
    "    - matplotlib, pandas, maps (P4DS Chapter 8)\n",
    "    - Tableau visualization & SQL databases\n",
    "- Descriptive Statistics with Python\n",
    "    - matplotlib, pandas, maps (P4DS Chapter 8)\n",
    "    - Tableau visualization & SQL databases\n",
    "    - DataFrame (P4DS Chapter 5 review)\n",
    "- More Statistics with Python\n",
    "    - Data summarization (P4DS Chapter 9)\n",
    "    - if time permits: Series & Time (P4DS Chapter 10)\n"
   ]
  },
  {
   "cell_type": "markdown",
   "metadata": {},
   "source": [
    "#### Very excited to be starting this journey with you!"
   ]
  }
 ],
 "metadata": {
  "kernelspec": {
   "display_name": "Python 3",
   "language": "python",
   "name": "python3"
  },
  "language_info": {
   "codemirror_mode": {
    "name": "ipython",
    "version": 3
   },
   "file_extension": ".py",
   "mimetype": "text/x-python",
   "name": "python",
   "nbconvert_exporter": "python",
   "pygments_lexer": "ipython3",
   "version": "3.7.2"
  }
 },
 "nbformat": 4,
 "nbformat_minor": 1
}
